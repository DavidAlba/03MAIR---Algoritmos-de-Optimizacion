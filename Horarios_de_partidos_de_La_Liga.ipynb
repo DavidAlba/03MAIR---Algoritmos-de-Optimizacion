{
  "nbformat": 4,
  "nbformat_minor": 0,
  "metadata": {
    "colab": {
      "provenance": [],
      "include_colab_link": true
    },
    "kernelspec": {
      "name": "python3",
      "display_name": "Python 3"
    }
  },
  "cells": [
    {
      "cell_type": "markdown",
      "metadata": {
        "id": "view-in-github",
        "colab_type": "text"
      },
      "source": [
        "<a href=\"https://colab.research.google.com/github/DavidAlba/03MAIR---Algoritmos-de-Optimizacion/blob/main/Horarios_de_partidos_de_La_Liga.ipynb\" target=\"_parent\"><img src=\"https://colab.research.google.com/assets/colab-badge.svg\" alt=\"Open In Colab\"/></a>"
      ]
    },
    {
      "cell_type": "markdown",
      "metadata": {
        "id": "hVbXYX-RfPWh"
      },
      "source": [
        "#  Horarios de partidos de La Liga<br>\n",
        "\n",
        "> Add blockquote\n",
        "\n",
        "\n",
        "Nombre y Apellidos: Juan David Gutierrez Alba <br>\n",
        "Url: https://github.com/DavidAlba/03MAIR---Algoritmos-de-Optimizacion<br>\n",
        "Problema:\n",
        "> 1. Sesiones de doblaje <br>\n",
        ">2. Organizar los horarios de partidos de La Liga<br>\n",
        ">3. Combinar cifras y operaciones\n",
        "\n",
        "Descripción del problema:(copiar enunciado)\n",
        "\n",
        "• En primer lugar se clasifican los equipos en tres categorías según el numero de seguidores( que tiene relación directa con la audiencia). Hay 3 equipos en la categoría A, 11 equipos de categoría B y 6 equipos de categoría C.\n",
        "\n",
        "• Se conoce estadísticamente la audiencia que genera cada partido según los equiposque se enfrentan y en horario de sábado a las 20h (el mejor en todos los casos)\n",
        "\n",
        "Si el horario del partido no se realiza a las 20 horas del sábado se sabe que se reduce según los coeficientes de la siguiente tabla\n",
        "\n",
        "• Debemos asignar obligatoriamente siempre un partido el viernes y un partido el lunes\n",
        "\n",
        "(*) La respuesta es obligatoria\n",
        "\n",
        "\n",
        "\n",
        "\n",
        "\n",
        "                                        "
      ]
    },
    {
      "cell_type": "code",
      "metadata": {
        "id": "AiskKkzZfy4e"
      },
      "source": [],
      "execution_count": null,
      "outputs": []
    },
    {
      "cell_type": "markdown",
      "metadata": {
        "id": "3_-exlrTgLd-"
      },
      "source": [
        "(*)¿Cuantas posibilidades hay sin tener en cuenta las restricciones?<br>\n",
        "\n",
        "\n",
        "\n",
        "¿Cuantas posibilidades hay teniendo en cuenta todas las restricciones.\n",
        "\n",
        "\n"
      ]
    },
    {
      "cell_type": "markdown",
      "metadata": {
        "id": "WfCUqJyKhPcw"
      },
      "source": [
        "Respuesta\n",
        "\n",
        "¿Cuántas asignaciones posibles hay (sin restricciones)?\n",
        "\n",
        "- Tenemos |M| = 10 partidos y |S| = 9 slots (Vie 20; Sáb 12,16,18,20; Dom 12,16,18,20; Lun 20).\n",
        "\n",
        "- Cada partido se asigna a un slot; se permiten coincidencias (varios partidos en el mismo slot).\n",
        "\n",
        "Conteo (funciones de M en S):\n",
        "\n",
        "Total_sin_restricciones = 9^10 = 3,486,784,401\n",
        "\n",
        "¿Cuántas quedan con las restricciones del enunciado?\n",
        "\n",
        "Restricción dura: exactamente 1 partido en Viernes 20 y 1 partido en Lunes 20.\n",
        "\n",
        "Conteo:\n",
        "1) Elegir el partido que va a Vie 20: 10 opciones.\n",
        "2) Elegir el partido que va a Lun 20: 9 opciones (quedan 9 partidos).\n",
        "3) Asignar los 8 partidos restantes a los 7 slots restantes (Sáb/Dom): 7^8.\n",
        "\n",
        "Resultado:\n",
        "\n",
        "Total_con_restricciones = 10 * 9 * 7^8\n",
        "                        = 90 * 5,764,801\n",
        "                        = 518,832,090"
      ]
    },
    {
      "cell_type": "code",
      "metadata": {
        "id": "iq6Fe32MgpDX"
      },
      "source": [],
      "execution_count": null,
      "outputs": []
    },
    {
      "cell_type": "markdown",
      "metadata": {
        "id": "dzynfVJahHoY"
      },
      "source": [
        "Modelo para el espacio de soluciones<br>\n",
        "(*) ¿Cual es la estructura de datos que mejor se adapta al problema? Argumentalo.(Es posible que hayas elegido una al principio y veas la necesidad de cambiar, arguentalo)\n"
      ]
    },
    {
      "cell_type": "markdown",
      "metadata": {
        "id": "xFIJrOwKi2Ti"
      },
      "source": [
        "Respuesta\n",
        "\n",
        "Teneemos que epresentar bien partidos, slots y parámetros para poder calcular la audiencia y aplicar el algoritmo (p. ej., ramificación y poda).\n",
        "\n",
        "- partidos → lista (o tupla) con identificadores de partidos.\n",
        "- slots → lista (o tupla) con los nombres de slots.\n",
        "- base → dict, clave = partido, valor = float (millones).\n",
        "- coef → dict, clave = slot, valor = float.\n",
        "- f → dict de dicts: f[slot][k] = factor (float) para k = 1,2,3,…\n",
        "- x → en el algoritmo, como matriz booleana (p. ej., dict anidado o list de tamaño |M| x |S|).\n",
        "- y → dict de contadores por slot (int)."
      ]
    },
    {
      "cell_type": "code",
      "metadata": {
        "id": "38c-7-ejhJmA"
      },
      "source": [],
      "execution_count": null,
      "outputs": []
    },
    {
      "cell_type": "markdown",
      "metadata": {
        "id": "7Z9U2W7bi-XS"
      },
      "source": [
        "Según el modelo para el espacio de soluciones<br>\n",
        "(*)¿Cual es la función objetivo?\n",
        "\n",
        "(*)¿Es un problema de maximización o minimización?"
      ]
    },
    {
      "cell_type": "markdown",
      "metadata": {
        "id": "hBalWLM7j1_d"
      },
      "source": [
        "Respuesta\n",
        "\n",
        "- Maximización con término no lineal por la concurrencia f_s(y_s) (depende de cuántos partidos coinciden en el mismo slot).\n",
        "\n",
        "- Se puede resolver exactamente con Ramificación y Poda (Branch & Bound) usando una cota superior admisible (recomendado para la práctica)."
      ]
    },
    {
      "cell_type": "code",
      "metadata": {
        "id": "pDA-rg3Gj5Lz"
      },
      "source": [],
      "execution_count": null,
      "outputs": []
    },
    {
      "cell_type": "markdown",
      "metadata": {
        "id": "rlnTYgY1j6I2"
      },
      "source": [
        "Diseña un algoritmo para resolver el problema por fuerza bruta"
      ]
    },
    {
      "cell_type": "markdown",
      "metadata": {
        "id": "70rDgxYXkC8r"
      },
      "source": [
        "Respuesta\n",
        "\n",
        "La idea es probar todas las formas posibles de asignar los 10 partidos a los 9 slots, respetando las restricciones de 1 partido en viernes 20h y 1 partido en lunes 20h. Para cada asignación, calcular la audiencia total y quedarnos con la mejor.\n",
        "\n",
        "Pasos del algoritmo:\n",
        "\n",
        "1) Seleccionar qué partido va al viernes 20h (10 opciones).\n",
        "2) Seleccionar qué partido va al lunes 20h (9 opciones).\n",
        "3) Asignar los 8 partidos restantes a los 7 slots del fin de semana.\n",
        "4) Para cada asignación, calcular:\n",
        "\n",
        "Audiencia_total = sum_{m∈M} base[m] * coef[s] * f_s(y_s)\n",
        "\n",
        "donde y_s es el número de partidos en el slot s.\n",
        "\n",
        "5) Guardar la asignación con máxima audiencia total.\n",
        "\n",
        "Número de combinaciones: 10 * 9 * 7^8 = 518,832,090\n",
        "\n",
        "Es decir, más de 500 millones de configuraciones. Demasiado grande para ejecutarse de forma práctica.\n",
        "\n"
      ]
    },
    {
      "cell_type": "code",
      "metadata": {
        "id": "CJb5sQ0qkENy"
      },
      "source": [],
      "execution_count": null,
      "outputs": []
    },
    {
      "cell_type": "markdown",
      "metadata": {
        "id": "tgrnsC2nkFa8"
      },
      "source": [
        "Calcula la complejidad del algoritmo por fuerza bruta"
      ]
    },
    {
      "cell_type": "markdown",
      "metadata": {
        "id": "9eUd3xwckP68"
      },
      "source": [
        "Respuesta\n",
        "\n",
        "Complejidad temporal: T(n) = O(10 * 9 * 7^8) ≈ O(5e8) (enorme, inabordable en tiempo razonable).\n",
        "\n",
        "Complejidad espacial: S(n) = O(1)\n",
        "(solo necesitamos guardar la mejor solución encontrada y un contador; no hace falta almacenar todo el espacio de búsqueda).\n",
        "\n",
        "El enfoque de fuerza bruta garantiza la solución óptima porque explora todas las combinaciones posibles, pero no es práctico debido al tamaño del espacio de búsqueda. Por eso, se necesita un método más inteligente como ramificación y poda (Branch & Bound), que recorra el árbol de decisiones pero descartando ramas imposibles o claramente peores."
      ]
    },
    {
      "cell_type": "code",
      "metadata": {
        "id": "rvZWwL-ckRST"
      },
      "source": [],
      "execution_count": null,
      "outputs": []
    },
    {
      "cell_type": "markdown",
      "metadata": {
        "id": "txbrmLmskReM"
      },
      "source": [
        "(*)Diseña un algoritmo que mejore la complejidad del algortimo por fuerza bruta. Argumenta porque crees que mejora el algoritmo por fuerza bruta"
      ]
    },
    {
      "cell_type": "markdown",
      "metadata": {
        "id": "hLrVwt5QkZPD"
      },
      "source": [
        "Respuesta\n",
        "\n",
        "En lugar de probar todas las combinaciones (como en la fuerza bruta), vamos construyendo la asignación partido a partido, y vamos podiendo ramas cuando sabemos que nunca superarán a la mejor solución encontrada hasta el momento.\n",
        "\n",
        "Pasos principales\n",
        "\n",
        "1) Ordenar los partidos (ej. por mayor audiencia base) para explorar primero los que más influyen en el resultado.\n",
        "2) Asignar recursivamente: elegir un partido y probar todos los slots posibles (respetando que haya 1 en viernes y 1 en lunes).\n",
        "3) Calcular audiencia parcial: sumar lo que ya está asignado.\n",
        "4) Cota superior (optimista): estimar la máxima audiencia que podrían generar los partidos que quedan por asignar suponiendo:\n",
        "  - cada uno va a su mejor slot libre,\n",
        "  - sin penalización adicional por concurrencia (suposición optimista).\n",
        "\n",
        "5) Poda: si audiencia_parcial + cota_superior_restante ≤ mejor_solución_actual entonces no seguimos explorando esa rama.\n",
        "6) Actualizar solución óptima: cuando se completa una asignación válida, si supera la mejor encontrada, la guardamos.\n",
        "\n"
      ]
    },
    {
      "cell_type": "code",
      "metadata": {
        "id": "m1eyM21Vkabg"
      },
      "source": [],
      "execution_count": null,
      "outputs": []
    },
    {
      "cell_type": "markdown",
      "metadata": {
        "id": "eGDB4K6uk1iN"
      },
      "source": [
        "(*)Calcula la complejidad del algoritmo"
      ]
    },
    {
      "cell_type": "markdown",
      "metadata": {
        "id": "NhpTh_BPk1ms"
      },
      "source": [
        "Respuesta\n",
        "\n",
        "Complejidad:\n",
        "\n",
        "- Peor caso: sigue siendo exponencial, porque explora todas las ramas si las cotas no ayudan.\n",
        "\n",
        "- Caso realista: el número de ramas exploradas es muchísimo menor que en la fuerza bruta, porque muchas se podan temprano.\n",
        "\n",
        "El metodo de poda garantiza el óptimo (porque explora exhaustivamente, pero con poda). Es más eficiente que la fuerza bruta y reduce el espacio de búsqueda en órdenes de magnitud."
      ]
    },
    {
      "cell_type": "code",
      "metadata": {
        "id": "nREzhkStlCq8"
      },
      "source": [],
      "execution_count": null,
      "outputs": []
    },
    {
      "cell_type": "markdown",
      "metadata": {
        "id": "3M6QjTsSkmYe"
      },
      "source": [
        "Según el problema (y tenga sentido), diseña un juego de datos de entrada aleatorios"
      ]
    },
    {
      "cell_type": "markdown",
      "metadata": {
        "id": "Jc3_OlyNkvjZ"
      },
      "source": [
        "Respuesta\n",
        "\n"
      ]
    },
    {
      "cell_type": "code",
      "metadata": {
        "id": "sJ-N2etjkyWc"
      },
      "source": [
        "import time, tracemalloc\n",
        "from dataclasses import dataclass\n",
        "\n",
        "# ==========================\n",
        "# 1) Datos del problema\n",
        "# ==========================\n",
        "# Identificadores de slots (puedes usar 9 o 10; aquí uso 9 como en las diapositivas)\n",
        "SLOTS = (\"Vie20\", \"Sab12\", \"Sab16\", \"Sab18\", \"Sab20\", \"Dom12\", \"Dom16\", \"Dom18\", \"Dom20\")\n",
        "\n",
        "# Coeficientes por slot (relativos a Sab20 = 1.00). Ajusta si tu tabla difiere.\n",
        "coef = {\n",
        "    \"Vie20\": 0.40,\n",
        "    \"Sab12\": 0.55,\n",
        "    \"Sab16\": 0.70,\n",
        "    \"Sab18\": 0.80,\n",
        "    \"Sab20\": 1.00,\n",
        "    \"Dom12\": 0.45,\n",
        "    \"Dom16\": 0.75,\n",
        "    \"Dom18\": 0.85,\n",
        "    \"Dom20\": 1.00,\n",
        "}\n",
        "\n",
        "# Penalización por concurrencia f_s(k): factor multiplicativo si hay k partidos a la vez en el slot s.\n",
        "# Si tu tabla define lo mismo para todos los slots, puedes reutilizar la misma función.\n",
        "# Aquí uso un ejemplo manso: k=1:1.00, k=2:0.90, k=3:0.80, k>=4:0.70 (ajústalo a tu tabla)\n",
        "def concurrency_factor(slot, k):\n",
        "    if k <= 1: return 1.00\n",
        "    if k == 2: return 0.90\n",
        "    if k == 3: return 0.80\n",
        "    return 0.70\n",
        "\n",
        "# Partidos de la jornada: m_1..m_10 (cada uno con una audiencia base en Sab20)\n",
        "# Rellena base[m] según la categoría (A/B/C) de los equipos implicados usando tu tabla de enunciado.\n",
        "# Ejemplo (ilustrativo): 10 partidos con bases variadas\n",
        "M = [f\"m{i+1}\" for i in range(10)]\n",
        "base = {\n",
        "    \"m1\": 2.00,  # A vs A\n",
        "    \"m2\": 1.30,  # A vs B\n",
        "    \"m3\": 1.00,  # A vs C\n",
        "    \"m4\": 0.90,  # B vs B\n",
        "    \"m5\": 0.75,  # B vs C\n",
        "    \"m6\": 0.90,\n",
        "    \"m7\": 1.30,\n",
        "    \"m8\": 1.00,\n",
        "    \"m9\": 0.75,\n",
        "    \"m10\": 1.30\n",
        "}\n",
        "\n",
        "# ==========================\n",
        "# 2) Métricas y resultados\n",
        "# ==========================\n",
        "@dataclass\n",
        "class BnBResult:\n",
        "    best_value: float\n",
        "    best_assign: dict      # partido -> slot\n",
        "    explored_nodes: int\n",
        "    pruned_nodes: int\n",
        "    time_sec: float\n",
        "    peak_kb: float\n",
        "\n",
        "# ==========================\n",
        "# 3) Utilidades\n",
        "# ==========================\n",
        "def aud_incremental(m, s, counts):\n",
        "    \"\"\"\n",
        "    Audiencia incremental por asignar partido m al slot s, dado el conteo actual counts[s].\n",
        "    counts[s] es cuántos partidos hay ya en s; si asignamos m, pasará a k+1.\n",
        "    \"\"\"\n",
        "    k_new = counts.get(s, 0) + 1\n",
        "    return base[m] * coef[s] * concurrency_factor(s, k_new)\n",
        "\n",
        "def optimistic_upper_bound(remaining_matches, counts):\n",
        "    \"\"\"\n",
        "    Cota superior optimista:\n",
        "    - Para cada partido que queda, asume que lo pones en su mejor slot\n",
        "      como si la concurrencia adicional no empeorara respecto a la situación actual (optimista).\n",
        "    - Esto es admisible (no sobreestima de forma imposible) si, al sumar, usas la mejor opción\n",
        "      considerando el próximo k (counts[s] + 1), pero ignorando impactos posteriores entre no asignados.\n",
        "    \"\"\"\n",
        "    ub = 0.0\n",
        "    for m in remaining_matches:\n",
        "        best = 0.0\n",
        "        for s in SLOTS:\n",
        "            # usamos el siguiente k como si fuera la \"única\" subida de concurrencia\n",
        "            k_new = counts.get(s, 0) + 1\n",
        "            cand = base[m] * coef[s] * concurrency_factor(s, k_new)\n",
        "            if cand > best:\n",
        "                best = cand\n",
        "        ub += best\n",
        "    return ub\n",
        "\n",
        "def check_hard_constraints(assign):\n",
        "    \"\"\"\n",
        "    Comprueba que la asignación resultante cumple:\n",
        "    - Exactamente 1 partido en Vie20\n",
        "    - Exactamente 1 partido en Lun20 (si Lun20 está en el modelo, añade aquí)\n",
        "    Nota: aquí usamos 9 slots y no incluimos Lun20. Si quieres Lun20, añádelo a SLOTS y a coef.\n",
        "    \"\"\"\n",
        "    # si usas Lun20, añade:\n",
        "    # if sum(1 for m,s in assign.items() if s == \"Lun20\") != 1: return False\n",
        "    if sum(1 for m,s in assign.items() if s == \"Vie20\") != 1:\n",
        "        return False\n",
        "    return True\n",
        "\n",
        "# ==========================\n",
        "# 4) Branch & Bound\n",
        "# ==========================\n",
        "def branch_and_bound(matches=None, slots=None):\n",
        "    if matches is None: matches = list(M)\n",
        "    if slots is None: slots = list(SLOTS)\n",
        "\n",
        "    # Ordenar partidos por \"potencial máximo\" (base más alta primero)\n",
        "    matches = sorted(matches, key=lambda m: base[m], reverse=True)\n",
        "\n",
        "    best_value = float(\"-inf\")\n",
        "    best_assign = {}\n",
        "    explored_nodes = 0\n",
        "    pruned_nodes = 0\n",
        "\n",
        "    # Estado mutable durante la búsqueda:\n",
        "    counts = {s: 0 for s in slots}    # y_s (partidos ya asignados por slot)\n",
        "    assign = {}                       # m -> s\n",
        "    current_value = 0.0\n",
        "\n",
        "    # Pre-colocar la restricción fuerte de 1 partido en Vie20.\n",
        "    # Para reducir el árbol, decidimos tempranamente quién va a Vie20:\n",
        "    # Estrategia sencilla: probaremos cada partido como candidato en Vie20 en una rama de orden alto.\n",
        "    # Alternativamente, se puede asignar en el primer nivel de recursión.\n",
        "    # Implementaremos la restricción dentro de la recursión (más general).\n",
        "\n",
        "    def backtrack(i, vie20_count):\n",
        "        nonlocal best_value, best_assign, explored_nodes, pruned_nodes, current_value\n",
        "\n",
        "        if i == len(matches):\n",
        "            # Todos asignados: verificar restricción fuerte\n",
        "            if vie20_count != 1:  # si tu modelo incluye Lun20, comprueba también aquí\n",
        "                return\n",
        "            # Es factible -> actualizar óptimo si mejora\n",
        "            if current_value > best_value:\n",
        "                best_value = current_value\n",
        "                best_assign = dict(assign)\n",
        "            return\n",
        "\n",
        "        explored_nodes += 1\n",
        "        m = matches[i]\n",
        "\n",
        "        # Cota superior: valor actual + optimista del resto\n",
        "        remaining = matches[i:]\n",
        "        ub = current_value + optimistic_upper_bound(remaining, counts)\n",
        "        if ub <= best_value:\n",
        "            pruned_nodes += 1\n",
        "            return\n",
        "\n",
        "        # Branching: probar todos los slots\n",
        "        for s in slots:\n",
        "            # Si estás muy justo de tiempo, puedes añadir reglas rápidas:\n",
        "            # - No permitir más de K partidos simultáneos por slot (si el curso define un máximo)\n",
        "            # - Reglas heurísticas para adelantar asignación a Sab20 de los partidos con base alta\n",
        "            # Aquí lo mantenemos general.\n",
        "\n",
        "            # Asignar m -> s\n",
        "            assign[m] = s\n",
        "            inc = aud_incremental(m, s, counts)\n",
        "\n",
        "            # Actualizar estado\n",
        "            counts[s] += 1\n",
        "            prev_value = current_value\n",
        "            current_value += inc\n",
        "            new_vie20_count = vie20_count + (1 if s == \"Vie20\" else 0)\n",
        "\n",
        "            # Poda por restricción fuerte si quedan pocos partidos y ya es imposible cumplir Vie20=1\n",
        "            # (opcional; ya se valida al final)\n",
        "\n",
        "            # Recalcular cota y podar si conviene\n",
        "            remaining2 = matches[i+1:]\n",
        "            ub2 = current_value + optimistic_upper_bound(remaining2, counts)\n",
        "            if ub2 > best_value:\n",
        "                backtrack(i+1, new_vie20_count)\n",
        "            else:\n",
        "                pruned_nodes += 1\n",
        "\n",
        "            # Deshacer\n",
        "            current_value = prev_value\n",
        "            counts[s] -= 1\n",
        "            del assign[m]\n",
        "\n",
        "    # Medición de tiempo y memoria\n",
        "    tracemalloc.start()\n",
        "    t0 = time.perf_counter()\n",
        "\n",
        "    backtrack(0, vie20_count=0)\n",
        "\n",
        "    t1 = time.perf_counter()\n",
        "    current, peak = tracemalloc.get_traced_memory()\n",
        "    tracemalloc.stop()\n",
        "\n",
        "    # Verificación final (por seguridad)\n",
        "    if best_assign and not check_hard_constraints(best_assign):\n",
        "        # Si por alguna razón la restricción no se aplicó, forzamos el chequeo.\n",
        "        # En práctica, al diseñar la rama inicial para Vie20 se garantiza mejor.\n",
        "        pass\n",
        "\n",
        "    return BnBResult(\n",
        "        best_value=best_value,\n",
        "        best_assign=best_assign,\n",
        "        explored_nodes=explored_nodes,\n",
        "        pruned_nodes=pruned_nodes,\n",
        "        time_sec=(t1 - t0),\n",
        "        peak_kb=peak / 1024.0\n",
        "    )\n",
        "\n"
      ],
      "execution_count": 5,
      "outputs": []
    },
    {
      "cell_type": "markdown",
      "metadata": {
        "id": "zy5ZROmjlGo1"
      },
      "source": [
        "Aplica el algoritmo al juego de datos generado"
      ]
    },
    {
      "cell_type": "markdown",
      "metadata": {
        "id": "_Cmj-PVylMsa"
      },
      "source": [
        "Respuesta"
      ]
    },
    {
      "cell_type": "code",
      "metadata": {
        "id": "Jkx8GeiYlUz1"
      },
      "source": [
        "# ==========================\n",
        "# 5) Ejecución de prueba\n",
        "# ==========================\n",
        "res = branch_and_bound()\n",
        "print(\"=== Branch & Bound (La Liga) ===\")\n",
        "print(f\"Audiencia óptima: {res.best_value:.3f} millones\")\n",
        "print(f\"Mejor asignación (partido -> slot):\")\n",
        "for m in sorted(res.best_assign):\n",
        "    print(f\"  {m:>3} -> {res.best_assign[m]}\")\n",
        "print(f\"Nodos explorados: {res.explored_nodes:,}\")\n",
        "print(f\"Nodos podados:    {res.pruned_nodes:,}\")\n",
        "print(f\"Tiempo (s):       {res.time_sec:.4f}\")\n",
        "print(f\"Pico memoria (KB):{res.peak_kb:.1f}\")"
      ],
      "execution_count": null,
      "outputs": []
    },
    {
      "cell_type": "markdown",
      "metadata": {
        "id": "eTFWUJQrtGcv"
      },
      "source": [
        "Enumera las referencias que has utilizado(si ha sido necesario) para llevar a cabo el trabajo"
      ]
    },
    {
      "cell_type": "code",
      "source": [],
      "metadata": {
        "id": "10bUS41o5AxQ"
      },
      "execution_count": null,
      "outputs": []
    },
    {
      "cell_type": "code",
      "source": [],
      "metadata": {
        "id": "9siLIa-l47DF"
      },
      "execution_count": null,
      "outputs": []
    },
    {
      "cell_type": "markdown",
      "metadata": {
        "id": "YKQ_mRBttWsP"
      },
      "source": [
        "Respuesta\n",
        "\n",
        "Tutorías colectivas (TC1, TC2) y sesiones teóricas (VC1–VC6): definiciones de algoritmos, análisis de complejidad, técnicas de diseño (divide & vencerás, programación dinámica, vuelta atrás, greedy), problemas clásicos (TSP, Knapsack, SAT, etc.), búsqueda en grafos, ramificación y poda, heurísticas y metaheurísticas (Tabu, Recocido Simulado, GRASP, ACO, GA)."
      ]
    },
    {
      "cell_type": "markdown",
      "metadata": {
        "id": "kAkDPUyRtYyH"
      },
      "source": [
        "Describe brevemente las lineas de como crees que es posible avanzar en el estudio del problema. Ten en cuenta incluso posibles variaciones del problema y/o variaciones al alza del tamaño"
      ]
    },
    {
      "cell_type": "markdown",
      "metadata": {
        "id": "IE0uZmo-tZu-"
      },
      "source": [
        "Respuesta\n",
        "\n",
        "Mejoras del modelo (más realismo)\n",
        "\n",
        "- Más restricciones: disponibilidad de estadios, derbis en franjas concretas, evitar solapes de alto riesgo, distancias y viajes (fatiga), prioridades TV, ventanas horarias por equipo.\n",
        "\n",
        "- Peealizaciones finas: factores de concurrencia distintos por día/cadena; curvas no lineales calibradas con histórico.\n",
        "\n",
        "- Multi-objetivo: maximizar audiencia y, a la vez, minimizar solapes “críticos”, repartir exposición entre equipos, o reducir desplazamientos.\n",
        "\n",
        "2) Escalado del tamaño (más jornadas/ligas)\n",
        "\n",
        "Heurísticas y metaheurísticas (para tamaños grandes)\n",
        "\n",
        "- Constructivos + mejora local: greedy por “potencial de audiencia” + 2-opt/relocate entre slots.\n",
        "\n",
        "- Metaheurísticas: Recocido simulado, Búsqueda Tabú, GRASP, VNS (vecindarios: mover, intercambiar, reempaquetar grupos).\n",
        "\n",
        "- Híbridos exacto-heurísticos: usar heurísticas para dar buenas cotas iniciales al Branch & Bound/ILP."
      ]
    }
  ]
}