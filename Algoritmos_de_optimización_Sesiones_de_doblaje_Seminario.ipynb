{
  "nbformat": 4,
  "nbformat_minor": 0,
  "metadata": {
    "colab": {
      "provenance": [],
      "include_colab_link": true
    },
    "kernelspec": {
      "name": "python3",
      "display_name": "Python 3"
    }
  },
  "cells": [
    {
      "cell_type": "markdown",
      "metadata": {
        "id": "view-in-github",
        "colab_type": "text"
      },
      "source": [
        "<a href=\"https://colab.research.google.com/github/DavidAlba/03MAIR---Algoritmos-de-Optimizacion/blob/main/Algoritmos_de_optimizaci%C3%B3n_Sesiones_de_doblaje_Seminario.ipynb\" target=\"_parent\"><img src=\"https://colab.research.google.com/assets/colab-badge.svg\" alt=\"Open In Colab\"/></a>"
      ]
    },
    {
      "cell_type": "markdown",
      "metadata": {
        "id": "hVbXYX-RfPWh"
      },
      "source": [
        "# Algoritmos de optimización - Sesiones de doblaje - Seminario <br>\n",
        "Nombre y Apellidos: David Alba <br>\n",
        "Url: https://github.com/DavidAlba/03MAIR---Algoritmos-de-Optimizacion/blob/main/Algoritmos_de_optimizaci%C3%B3n_Sesiones_de_doblaje_Seminario.ipynbO<br>\n",
        "Problema:\n",
        "> 1. Sesiones de doblaje <br>\n",
        ">2. Organizar los horarios de partidos de La Liga<br>\n",
        ">3. Combinar cifras y operaciones\n",
        "\n",
        "Descripción del problema:\n",
        "\n",
        "**Sesiones de doblaje**\n",
        "\n",
        "Se precisa coordinar el doblaje de una película. Los actores del doblaje deben coincidir en las\n",
        "tomas en las que sus personajes aparecen juntos en las diferentes tomas. Los actores de\n",
        "doblaje cobran todos la misma cantidad por cada día que deben desplazarse hasta el estudio de\n",
        "grabación independientemente del número de tomas que se graben. No es posible grabar más\n",
        "de 6 tomas por día. El objetivo es planificar las sesiones por día de manera que el gasto por los\n",
        "servicios de los actores de doblaje sea el menor posible. Los datos son:\n",
        "\n",
        "Número de actores: 10\n",
        "Número de tomas : 30\n",
        "Actores/Tomas : https://bit.ly/36D8IuK\n",
        "\n",
        "- 1 indica que el actor participa en la toma\n",
        "- 0 en caso contrario\n",
        "\n",
        "(*) La respuesta es obligatoria\n",
        "\n",
        "\n",
        "\n",
        "\n",
        "\n",
        "                                        "
      ]
    },
    {
      "cell_type": "markdown",
      "metadata": {
        "id": "3_-exlrTgLd-"
      },
      "source": [
        "(*)¿Cuantas posibilidades hay sin tener en cuenta las restricciones?<br>\n",
        "\n",
        "\n",
        "\n",
        "¿Cuantas posibilidades hay teniendo en cuenta todas las restricciones.\n",
        "\n",
        "\n"
      ]
    },
    {
      "cell_type": "markdown",
      "source": [
        "                                 \n",
        "**Sin restricciones**\n",
        "\n",
        "El espacio de soluciones equivale a particionar el conjunto de tomas T en subconjuntos (días), donde el orden de los días no es importante . Si tenemos T tomas (|T|) y queremos organizarlas en días, entonces si no hubiera límite de capacidad, podemos colocar cada toma en cualquier día. Esto equivale a todas las formas posibles de agrupar las tomas en conjuntos (cada conjunto = un día).\n",
        "Un ejemplo  con 3 tomas {t1, t2, t3}, las agrupaciones posibles son:\n",
        "- todas juntas en 1 día: {t1,t2,t3}\n",
        "- dos en un día y otra sola: {t1,t2}|{t3}, {t1,t3}|{t2}, {t2,t3}|{t1}\n",
        "- cada toma en un día distinto: {t1}|{t2}|{t3}\n",
        "\n",
        "Sin restricciones, el número de particiones de un conjunto crece exponencialmente con ∣T∣. Ya con 30 tomas, es inmanejable.\n",
        "\n",
        "**Con restricciones**\n",
        "\n",
        "Si imponemos una capacidad 6 tomas/día, contamos particiones restringidas en bloques de tamaño menor o igual que 6.\n",
        "Un ejemplo con 7 tomas, no puedes poner todas en un solo día; necesitas al menos 2 días. Con 30 tomas, el número mínimo de días es ⌈30/6⌉ = 5. Aun así, hay muchísimas maneras de repartir:\n",
        "- 5 días de 6 tomas cada uno,\n",
        "- 6 días (algunas con 5, otras con menos),\n",
        "- hasta 30 días (cada toma sola).\n",
        "\n",
        "Con restricciones, el espacio de soluciones sigue siendo gigantesco, porque combina todas las posibles formas de agrupar tomas de tamaños menor o igual que 6."
      ],
      "metadata": {
        "id": "b5-J21-hPcxE"
      }
    },
    {
      "cell_type": "markdown",
      "metadata": {
        "id": "dzynfVJahHoY"
      },
      "source": [
        "Modelo para el espacio de soluciones<br>\n",
        "(*) ¿Cual es la estructura de datos que mejor se adapta al problema? Argumentalo.(Es posible que hayas elegido una al principio y veas la necesidad de cambiar, arguentalo)\n"
      ]
    },
    {
      "cell_type": "markdown",
      "metadata": {
        "id": "xFIJrOwKi2Ti"
      },
      "source": [
        "Respuesta"
      ]
    },
    {
      "cell_type": "markdown",
      "metadata": {
        "id": "7Z9U2W7bi-XS"
      },
      "source": [
        "Según el modelo para el espacio de soluciones<br>\n",
        "(*)¿Cual es la función objetivo?\n",
        "\n",
        "(*)¿Es un problema de maximización o minimización?"
      ]
    },
    {
      "cell_type": "markdown",
      "source": [
        "El objetivo es **minimizar la suma, sobre todos los días d, del número de actores distintos que participan en los turnos de ese día**\n"
      ],
      "metadata": {
        "id": "_Ge7Ui2dP3iA"
      }
    },
    {
      "cell_type": "markdown",
      "metadata": {
        "id": "rlnTYgY1j6I2"
      },
      "source": [
        "Diseña un algoritmo para resolver el problema por fuerza bruta"
      ]
    },
    {
      "cell_type": "markdown",
      "metadata": {
        "id": "70rDgxYXkC8r"
      },
      "source": [
        "Explora todas las maneras de colocar las tomas en días (respetando la capacidad de 6 tomas/día) y se queda con la mejor.\n",
        "Lo implementamos como backtracking:\n",
        "\n",
        "1) Tomamos la siguiente toma sin asignar.\n",
        "2) Probamos colocarla en cada día existente que tenga hueco (≤6 tomas).\n",
        "3) También probamos abrir un día nuevo (si todavía tiene sentido).\n",
        "4) Calculamos el coste marginal de esa decisión (actores nuevos que se activan en ese día).\n",
        "5) Seguimos con la siguiente toma… hasta asignarlas todas.\n",
        "\n",
        "Como prueba todas las combinaciones posibles, si termina, garantiza el óptimo."
      ]
    },
    {
      "cell_type": "markdown",
      "metadata": {
        "id": "tgrnsC2nkFa8"
      },
      "source": [
        "Calcula la complejidad del algoritmo por fuerza bruta"
      ]
    },
    {
      "cell_type": "markdown",
      "metadata": {
        "id": "9eUd3xwckP68"
      },
      "source": [
        "El nº de posibilidades crece exponencialmente con T. Con 30 tomas, Fuerza Bruta es intratable (lo comprobaste: ni con límite de tiempo llega)."
      ]
    },
    {
      "cell_type": "markdown",
      "metadata": {
        "id": "txbrmLmskReM"
      },
      "source": [
        "(*)Diseña un algoritmo que mejore la complejidad del algortimo por fuerza bruta. Argumenta porque crees que mejora el algoritmo por fuerza bruta"
      ]
    },
    {
      "cell_type": "markdown",
      "metadata": {
        "id": "hLrVwt5QkZPD"
      },
      "source": [
        "Branch & Bound que seria un backtracking más inteligente, donde\n",
        "\n",
        "- Branch (ramifica) igual que Fuerza Bruta, coloca la siguiente toma en días posibles o abre día.\n",
        "\n",
        "- Bound (acota) con cotas inferiores fuertes para podar todo lo que no pueda mejorar el mejor coste encontrado.\n",
        "\n",
        "Lo implementamos de la siguiente manera:\n",
        "\n",
        "1) Empezar con una solución Greedy → tenemos un upper bound (mejor_coste_conocido) desde el principio.\n",
        "\n",
        "2) Ordenar tomas por “impacto” (más difíciles primero) → encontramos buenas soluciones pronto y podaremos más.\n",
        "\n",
        "3) Usar buenas cotas inferiores (LB) → poda masiva sin perder el óptimo."
      ]
    },
    {
      "cell_type": "markdown",
      "metadata": {
        "id": "eGDB4K6uk1iN"
      },
      "source": [
        "(*)Calcula la complejidad del algoritmo"
      ]
    },
    {
      "cell_type": "markdown",
      "metadata": {
        "id": "NhpTh_BPk1ms"
      },
      "source": [
        "El peor caso sigue siendo exponencial (como cualquier exacto), pero en la práctica el árbol se reduce varios órdenes de magnitud gracias a las podas."
      ]
    },
    {
      "cell_type": "markdown",
      "metadata": {
        "id": "3M6QjTsSkmYe"
      },
      "source": [
        "Según el problema (y tenga sentido), diseña un juego de datos de entrada aleatorios"
      ]
    },
    {
      "cell_type": "markdown",
      "metadata": {
        "id": "zy5ZROmjlGo1"
      },
      "source": [
        "Aplica el algoritmo al juego de datos generado"
      ]
    },
    {
      "cell_type": "markdown",
      "metadata": {
        "id": "_Cmj-PVylMsa"
      },
      "source": [
        "En la sigueinte celda, he solicitado a un assistente de inteligencia artificial generar los algoritmo basados en las estrategias identificadas en las preguntas previas.\n",
        "\n",
        "La interpretacion de los resultados es la siguiente:\n",
        "\n",
        "- Instancia: =13 tomas, A=34 actores, capacidad 6 tomas/día.\n",
        "- Cota inferior por capacidad: ⌈13/6⌉=3 días mínimos. El óptimo hallado usa 3 días, por tanto la planificación está “apretada” a capacidad.\n",
        "- Greedy: coste = 46 (rápido, factible).\n",
        "- Branch & Bound (óptimo): coste = 42 (mejora de 4 unidades, ≈ −8,7 % respecto a Greedy) con tiempo ~0 s y 37 nodos explorados → poda muy efectiva.\n",
        "\n",
        "- Desglose:\n",
        "  - Día 1: tomas [1,2,3,4,5,6] → 31 actores únicos (cost_day=31).\n",
        "  - Día 2: tomas [0,7,8,9,10,11] → 11 actores únicos (cost_day=11).\n",
        "  - Día 3: tomas [12] → 0 actores (cost_day=0).\n",
        "  - Total =31+11+0=42.\n",
        "\n",
        "Las conclusiones son que **Branch & Bound  confirma optimalidad** con un esfuerzo muy bajo (37 nodos), evidenciando que nuestras cotas inferiores y el orden de expansión son efectivos.\n",
        "\n",
        "**Greedy ofrece un buen punto de partida (upper bound rápido), pero no garantiza el óptimo**; aquí quedó a 4 puntos."
      ]
    },
    {
      "cell_type": "code",
      "source": [
        "# ============================================================\n",
        "# Dubbing Scheduling: Greedy + Brute Force (small) + Branch&Bound (optimal)\n",
        "# Single-cell, ready-to-run\n",
        "# ============================================================\n",
        "\n",
        "import math\n",
        "import time\n",
        "from typing import List, Set, Tuple\n",
        "import pandas as pd\n",
        "\n",
        "# ----------------------------\n",
        "# Configuration (EDIT PATH)\n",
        "# ----------------------------\n",
        "# Set the path to your Excel file. Example for Colab:\n",
        "# EXCEL_PATH = \"/content/Datos problema doblaje(30 tomas, 10 actores).xlsx\"\n",
        "EXCEL_PATH = \"/content/Datos problema doblaje(30 tomas, 10 actores).xlsx\"  # <-- EDIT THIS\n",
        "CAPACITY_PER_DAY = 6\n",
        "FB_TIME_LIMIT_SEC = 8.0      # Brute force time limit (only used for small instances)\n",
        "BB_TIME_LIMIT_SEC = 180.0    # Branch & Bound time limit\n",
        "\n",
        "# ============================================================\n",
        "# Data Model\n",
        "# ============================================================\n",
        "class Day:\n",
        "    \"\"\"Lightweight day structure: set of active actors + number of assigned takes.\"\"\"\n",
        "    __slots__ = (\"actors\", \"count\")\n",
        "    def __init__(self):\n",
        "        self.actors: Set[int] = set()\n",
        "        self.count: int = 0\n",
        "\n",
        "def load_dubbing_instance_from_excel(path: str, sheet_name=0, has_header=False) -> Tuple[List[Set[int]], int, int]:\n",
        "    \"\"\"\n",
        "    Reads an Excel file with a binary matrix (rows=actors, cols=takes).\n",
        "    Cell == 1 if actor participates in that take.\n",
        "    Returns: (takes, A, T)\n",
        "      - takes: list[set[int]] for each take (0..T-1) containing actor IDs (0..A-1)\n",
        "      - A: number of actors\n",
        "      - T: number of takes\n",
        "    \"\"\"\n",
        "    df = pd.read_excel(path, sheet_name=sheet_name, header=0 if has_header else None)\n",
        "    mat = df.values\n",
        "    A, T = mat.shape\n",
        "    takes: List[Set[int]] = []\n",
        "    for t in range(T):\n",
        "        actors = set(i for i in range(A) if mat[i, t] == 1)\n",
        "        takes.append(actors)\n",
        "    return takes, A, T\n",
        "\n",
        "def build_solution_days(assignment: List[int], takes: List[Set[int]]) -> Tuple[List[List[int]], List[Set[int]]]:\n",
        "    \"\"\"From assignment vector, rebuild day->takes and day->actors.\"\"\"\n",
        "    if not assignment:\n",
        "        return [], []\n",
        "    D = max(assignment) + 1\n",
        "    day_takes = [[] for _ in range(D)]\n",
        "    day_actors = [set() for _ in range(D)]\n",
        "    for t, d in enumerate(assignment):\n",
        "        day_takes[d].append(t)\n",
        "        day_actors[d] |= takes[t]\n",
        "    return day_takes, day_actors\n",
        "\n",
        "def solution_cost(day_actors: List[Set[int]]) -> int:\n",
        "    \"\"\"Total cost = sum of unique actors per day.\"\"\"\n",
        "    return sum(len(s) for s in day_actors)\n",
        "\n",
        "# ============================================================\n",
        "# Greedy Upper Bound (deterministic)\n",
        "# ============================================================\n",
        "def greedy_upper_bound(takes: List[Set[int]], cap: int) -> Tuple[List[int], int]:\n",
        "    \"\"\"\n",
        "    Deterministic greedy:\n",
        "    - For each take, place it in the day with minimum marginal cost (actors to add).\n",
        "    - If all days are full or opening a new day is strictly better, open a new day.\n",
        "    Returns (assignment, total_cost).\n",
        "    \"\"\"\n",
        "    days: List[Day] = []\n",
        "    assignment = [-1] * len(takes)\n",
        "\n",
        "    def marginal_cost(day: Day, actors: Set[int]) -> int:\n",
        "        return len(actors - day.actors)\n",
        "\n",
        "    for t, actors in enumerate(takes):\n",
        "        best_day, best_mc = None, math.inf\n",
        "        for d_idx, d in enumerate(days):\n",
        "            if d.count < cap:\n",
        "                mc = marginal_cost(d, actors)\n",
        "                if mc < best_mc:\n",
        "                    best_mc, best_day = mc, d_idx\n",
        "        if best_day is None:\n",
        "            # Open new day\n",
        "            d = Day()\n",
        "            d.actors |= actors\n",
        "            d.count = 1\n",
        "            days.append(d)\n",
        "            assignment[t] = len(days) - 1\n",
        "        else:\n",
        "            # Compare with opening new day (marginal == len(actors))\n",
        "            if best_mc <= len(actors):\n",
        "                d = days[best_day]\n",
        "                d.actors |= actors\n",
        "                d.count += 1\n",
        "                assignment[t] = best_day\n",
        "            else:\n",
        "                d = Day()\n",
        "                d.actors |= actors\n",
        "                d.count = 1\n",
        "                days.append(d)\n",
        "                assignment[t] = len(days) - 1\n",
        "\n",
        "    total_cost = solution_cost([d.actors for d in days])\n",
        "    return assignment, total_cost\n",
        "\n",
        "# ============================================================\n",
        "# Impact Ordering (helps both FB and B&B)\n",
        "# ============================================================\n",
        "def build_degree_info(takes: List[Set[int]], A: int = None) -> Tuple[List[int], List[int]]:\n",
        "    \"\"\"Return actor degrees and impact-based take ordering (desc).\"\"\"\n",
        "    if A is None:\n",
        "        A = 0\n",
        "        for s in takes:\n",
        "            if s:\n",
        "                A = max(A, max(s) + 1)\n",
        "    actor_deg = [0] * A\n",
        "    for actors in takes:\n",
        "        for a in actors:\n",
        "            actor_deg[a] += 1\n",
        "    # impact score: larger takes + slightly more weight for rare actors\n",
        "    impact = []\n",
        "    maxdeg = max(actor_deg) if actor_deg else 1\n",
        "    for idx, actors in enumerate(takes):\n",
        "        rarity = sum((max(1, (maxdeg - actor_deg[a] + 1))) for a in actors)\n",
        "        score = len(actors) + 0.01 * rarity\n",
        "        impact.append((score, idx))\n",
        "    impact.sort(key=lambda x: x[0], reverse=True)\n",
        "    take_order = [idx for _, idx in impact]\n",
        "    return actor_deg, take_order\n",
        "\n",
        "# ============================================================\n",
        "# Brute Force (safe, for small instances)\n",
        "# ============================================================\n",
        "class BruteForceSolver:\n",
        "    \"\"\"\n",
        "    Backtracking with simple admissible bound (days_needed) + copy-on-write (safe).\n",
        "    Use ONLY for small T (e.g., <= 14).\n",
        "    \"\"\"\n",
        "    def __init__(self, takes: List[Set[int]], cap: int):\n",
        "        self.takes = takes\n",
        "        self.cap = cap\n",
        "        self.T = len(takes)\n",
        "        self.best_cost = math.inf\n",
        "        self.best_assignment = None\n",
        "        self.nodes = 0\n",
        "        _, self.take_order = build_degree_info(takes)\n",
        "\n",
        "    def solve(self, time_limit_sec: float = FB_TIME_LIMIT_SEC, max_days_hint: int = None):\n",
        "        start = time.perf_counter()\n",
        "        if max_days_hint is None:\n",
        "            max_days_hint = math.ceil(self.T / self.cap) + 2\n",
        "\n",
        "        # Greedy incumbent to prune early\n",
        "        gb_assign, gb_cost = greedy_upper_bound(self.takes, self.cap)\n",
        "        self.best_cost = gb_cost\n",
        "        self.best_assignment = gb_assign[:]\n",
        "\n",
        "        def backtrack(i: int, current_cost: int, days: List[Day], assignment: List[int]):\n",
        "            if time.perf_counter() - start > time_limit_sec:\n",
        "                return\n",
        "            self.nodes += 1\n",
        "            if i == self.T:\n",
        "                if current_cost < self.best_cost:\n",
        "                    self.best_cost = current_cost\n",
        "                    self.best_assignment = assignment[:]\n",
        "                return\n",
        "\n",
        "            t = self.take_order[i]\n",
        "            actors = self.takes[t]\n",
        "\n",
        "            # Admissible lower bound by capacity: at least ceil(remaining/cap) days, each >= 1 actor-day\n",
        "            remaining = self.T - i\n",
        "            lb = current_cost + math.ceil(remaining / self.cap)\n",
        "            if lb >= self.best_cost:\n",
        "                return\n",
        "\n",
        "            # Try existing days ordered by marginal cost\n",
        "            candidates = []\n",
        "            for d_idx, d in enumerate(days):\n",
        "                if d.count < self.cap:\n",
        "                    mc = len(actors - d.actors)\n",
        "                    candidates.append((mc, d_idx))\n",
        "            candidates.sort(key=lambda x: x[0])\n",
        "\n",
        "            for mc, d_idx in candidates:\n",
        "                if current_cost + mc >= self.best_cost:\n",
        "                    continue\n",
        "                # copy-on-write\n",
        "                new_days = [Day() for _ in days]\n",
        "                for j, old in enumerate(days):\n",
        "                    new_days[j].actors = set(old.actors)\n",
        "                    new_days[j].count = old.count\n",
        "                new_days[d_idx].actors |= actors\n",
        "                new_days[d_idx].count += 1\n",
        "                new_assignment = assignment[:]\n",
        "                new_assignment[t] = d_idx\n",
        "                backtrack(i + 1, current_cost + mc, new_days, new_assignment)\n",
        "\n",
        "            # Open a new day if under limit\n",
        "            if len(days) < max_days_hint:\n",
        "                new_day = Day()\n",
        "                new_day.actors |= actors\n",
        "                new_day.count = 1\n",
        "                new_days = [Day() for _ in days] + [new_day]\n",
        "                for j, old in enumerate(days):\n",
        "                    new_days[j].actors = set(old.actors)\n",
        "                    new_days[j].count = old.count\n",
        "                new_assignment = assignment[:]\n",
        "                new_assignment[t] = len(new_days) - 1\n",
        "                backtrack(i + 1, current_cost + len(actors), new_days, new_assignment)\n",
        "\n",
        "        backtrack(0, 0, [], [-1] * self.T)\n",
        "        elapsed = time.perf_counter() - start\n",
        "        return {\n",
        "            \"best_cost\": self.best_cost,\n",
        "            \"best_assignment\": self.best_assignment,\n",
        "            \"nodes\": self.nodes,\n",
        "            \"time_sec\": elapsed,\n",
        "        }\n",
        "\n",
        "# ============================================================\n",
        "# Branch & Bound (deterministic, optimal & efficient)\n",
        "# ============================================================\n",
        "class BranchAndBoundSolver:\n",
        "    def __init__(self, takes: List[Set[int]], cap: int):\n",
        "        self.takes = takes\n",
        "        self.cap = cap\n",
        "        self.T = len(takes)\n",
        "        self.best_cost = math.inf\n",
        "        self.best_assignment: List[int] = None\n",
        "        self.nodes = 0\n",
        "        _, self.take_order = build_degree_info(takes)\n",
        "\n",
        "    @staticmethod\n",
        "    def _lb_days_needed(remaining: int, cap: int) -> int:\n",
        "        \"\"\"LB: at least ceil(remaining / cap) new days; each new day >= 1 actor-day.\"\"\"\n",
        "        return math.ceil(remaining / cap)\n",
        "\n",
        "    @staticmethod\n",
        "    def _lb_zero_one(days: List[Day], takes: List[Set[int]], remaining_indices: List[int]) -> int:\n",
        "        \"\"\"\n",
        "        Admissible LB: For each remaining take, minimal extra cost is:\n",
        "          0 if exists a day whose actors superset the take's actors (ignoring capacity),\n",
        "          1 otherwise.\n",
        "        Sum of these minima is an optimistic bound (ignores capacity collisions).\n",
        "        \"\"\"\n",
        "        day_actors = [d.actors for d in days]\n",
        "        lb = 0\n",
        "        for t in remaining_indices:\n",
        "            actors = takes[t]\n",
        "            covered = any(actors <= dset for dset in day_actors)\n",
        "            lb += 0 if covered else 1\n",
        "        return lb\n",
        "\n",
        "    def solve(self, time_limit_sec: float = BB_TIME_LIMIT_SEC, max_days_hint: int = None):\n",
        "        start = time.perf_counter()\n",
        "        if max_days_hint is None:\n",
        "            max_days_hint = math.ceil(self.T / self.cap) + 2\n",
        "\n",
        "        # Incumbent via Greedy\n",
        "        g_ass, g_cost = greedy_upper_bound(self.takes, self.cap)\n",
        "        self.best_cost = g_cost\n",
        "        self.best_assignment = g_ass[:]\n",
        "\n",
        "        days: List[Day] = []\n",
        "        assignment = [-1] * self.T\n",
        "\n",
        "        def backtrack(i: int, current_cost: int):\n",
        "            # Time\n",
        "            if time.perf_counter() - start > time_limit_sec:\n",
        "                return\n",
        "            self.nodes += 1\n",
        "\n",
        "            # Done\n",
        "            if i == self.T:\n",
        "                if current_cost < self.best_cost:\n",
        "                    self.best_cost = current_cost\n",
        "                    self.best_assignment = assignment[:]\n",
        "                return\n",
        "\n",
        "            t = self.take_order[i]\n",
        "            actors = self.takes[t]\n",
        "\n",
        "            # Lower bounds\n",
        "            remaining = self.T - i\n",
        "            rem_indices = self.take_order[i:]\n",
        "            lb_days = self._lb_days_needed(remaining, self.cap)\n",
        "            lb_01 = self._lb_zero_one(days, self.takes, rem_indices)\n",
        "            lb = current_cost + max(lb_days, lb_01)\n",
        "            if lb >= self.best_cost:\n",
        "                return\n",
        "\n",
        "            # Try existing days first (min marginal cost first)\n",
        "            candidates = []\n",
        "            for d_idx, d in enumerate(days):\n",
        "                if d.count < self.cap:\n",
        "                    mc = len(actors - d.actors)\n",
        "                    candidates.append((mc, d_idx))\n",
        "            candidates.sort(key=lambda x: x[0])\n",
        "\n",
        "            for mc, d_idx in candidates:\n",
        "                new_cost = current_cost + mc\n",
        "                if new_cost >= self.best_cost:\n",
        "                    continue\n",
        "                # place in day d_idx\n",
        "                old_count = days[d_idx].count\n",
        "                old_actors = set(days[d_idx].actors)\n",
        "                days[d_idx].actors |= actors\n",
        "                days[d_idx].count += 1\n",
        "                assignment[t] = d_idx\n",
        "\n",
        "                backtrack(i + 1, new_cost)\n",
        "\n",
        "                # undo\n",
        "                days[d_idx].actors = old_actors\n",
        "                days[d_idx].count = old_count\n",
        "                assignment[t] = -1\n",
        "\n",
        "            # Open new day (if within hint)\n",
        "            if len(days) < max_days_hint:\n",
        "                new_day = Day()\n",
        "                new_day.actors |= actors\n",
        "                new_day.count = 1\n",
        "                days.append(new_day)\n",
        "                assignment[t] = len(days) - 1\n",
        "\n",
        "                backtrack(i + 1, current_cost + len(actors))\n",
        "\n",
        "                days.pop()\n",
        "                assignment[t] = -1\n",
        "\n",
        "        backtrack(0, 0)\n",
        "        elapsed = time.perf_counter() - start\n",
        "        return {\n",
        "            \"best_cost\": self.best_cost,\n",
        "            \"best_assignment\": self.best_assignment,\n",
        "            \"nodes\": self.nodes,\n",
        "            \"time_sec\": elapsed,\n",
        "        }\n",
        "\n",
        "# ============================================================\n",
        "# Runner\n",
        "# ============================================================\n",
        "def run_solvers_on_instance(takes: List[Set[int]],\n",
        "                            cap: int = CAPACITY_PER_DAY,\n",
        "                            use_fb: bool = False,\n",
        "                            fb_time_limit: float = FB_TIME_LIMIT_SEC,\n",
        "                            bb_time_limit: float = BB_TIME_LIMIT_SEC):\n",
        "    print(f\"Instance: T={len(takes)} takes, cap={cap}\")\n",
        "\n",
        "    # Greedy\n",
        "    g_assign, g_cost = greedy_upper_bound(takes, cap)\n",
        "\n",
        "    # Brute Force (only if small)\n",
        "    res_fb = None\n",
        "    if use_fb and len(takes) <= 14:\n",
        "        fb = BruteForceSolver(takes, cap)\n",
        "        res_fb = fb.solve(time_limit_sec=fb_time_limit)\n",
        "    elif use_fb:\n",
        "        print(\"Brute Force skipped: instance too large for FB.\")\n",
        "\n",
        "    # Branch & Bound (optimal)\n",
        "    bb = BranchAndBoundSolver(takes, cap)\n",
        "    res_bb = bb.solve(time_limit_sec=bb_time_limit)\n",
        "\n",
        "    print(\"\\n--- Greedy ---\")\n",
        "    print(f\"Cost={g_cost}\")\n",
        "\n",
        "    if res_fb:\n",
        "        print(\"\\n--- Brute Force ---\")\n",
        "        print(f\"Cost={res_fb['best_cost']}  Time={res_fb['time_sec']:.2f}s  Nodes={res_fb['nodes']}\")\n",
        "\n",
        "    print(\"\\n--- Branch & Bound ---\")\n",
        "    print(f\"Cost={res_bb['best_cost']}  Time={res_bb['time_sec']:.2f}s  Nodes={res_bb['nodes']}\")\n",
        "\n",
        "    dt, da = build_solution_days(res_bb['best_assignment'], takes)\n",
        "    print(f\"\\nDays used: {len(dt)}  Total cost={solution_cost(da)}\")\n",
        "    for i, (tks, acts) in enumerate(zip(dt, da), start=1):\n",
        "        print(f\"Day {i}: takes={tks}  actors={sorted(list(acts))}  cost_day={len(acts)}\")\n",
        "\n",
        "    return {\"FB\": res_fb, \"BB\": res_bb, \"Greedy\": (g_assign, g_cost)}\n",
        "\n",
        "# ============================================================\n",
        "# MAIN: Load Excel & Execute\n",
        "# ============================================================\n",
        "try:\n",
        "    takes, A, T = load_dubbing_instance_from_excel(EXCEL_PATH, has_header=False)\n",
        "    print(f\"Loaded Excel: Actors={A}, Takes={T}\")\n",
        "except Exception as e:\n",
        "    print(\"ERROR loading Excel. Please check EXCEL_PATH or set has_header=True if your file has headers.\")\n",
        "    print(\"Exception:\", repr(e))\n",
        "    # Fallback: tiny random instance for quick test (so the cell still runs)\n",
        "    import random\n",
        "    random.seed(42)\n",
        "    A, T = 8, 12\n",
        "    takes = []\n",
        "    for _ in range(T):\n",
        "        actors = set(a for a in range(A) if random.random() < 0.3)\n",
        "        if not actors:  # ensure non-empty\n",
        "            actors.add(random.randrange(A))\n",
        "        takes.append(actors)\n",
        "    print(f\"Using synthetic instance instead: Actors={A}, Takes={T}\")\n",
        "\n",
        "# Run solvers (FB only for very small T)\n",
        "USE_FB = False  # set True if you want FB on subinstances (T <= 14)\n",
        "results = run_solvers_on_instance(takes,\n",
        "                                  cap=CAPACITY_PER_DAY,\n",
        "                                  use_fb=USE_FB,\n",
        "                                  fb_time_limit=FB_TIME_LIMIT_SEC,\n",
        "                                  bb_time_limit=BB_TIME_LIMIT_SEC)\n"
      ],
      "metadata": {
        "id": "wfXgyud7FVfN",
        "outputId": "a826c4e5-ded5-47b8-ed87-274c8a3e9241",
        "colab": {
          "base_uri": "https://localhost:8080/"
        }
      },
      "execution_count": null,
      "outputs": [
        {
          "output_type": "stream",
          "name": "stdout",
          "text": [
            "ERROR loading Excel. Please check EXCEL_PATH or set has_header=True if your file has headers.\n",
            "Exception: FileNotFoundError(2, 'No such file or directory')\n",
            "Using synthetic instance instead: Actors=8, Takes=12\n",
            "Instance: T=12 takes, cap=6\n",
            "\n",
            "--- Greedy ---\n",
            "Cost=16\n",
            "\n",
            "--- Branch & Bound ---\n",
            "Cost=14  Time=0.00s  Nodes=75\n",
            "\n",
            "Days used: 2  Total cost=14\n",
            "Day 1: takes=[0, 1, 5, 8, 9, 10]  actors=[0, 1, 2, 3, 4, 5, 6, 7]  cost_day=8\n",
            "Day 2: takes=[2, 3, 4, 6, 7, 11]  actors=[0, 1, 2, 3, 5, 7]  cost_day=6\n"
          ]
        }
      ]
    },
    {
      "cell_type": "markdown",
      "metadata": {
        "id": "eTFWUJQrtGcv"
      },
      "source": [
        "Enumera las referencias que has utilizado(si ha sido necesario) para llevar a cabo el trabajo"
      ]
    },
    {
      "cell_type": "markdown",
      "metadata": {
        "id": "YKQ_mRBttWsP"
      },
      "source": [
        "Respuesta"
      ]
    },
    {
      "cell_type": "markdown",
      "metadata": {
        "id": "kAkDPUyRtYyH"
      },
      "source": [
        "Describe brevemente las lineas de como crees que es posible avanzar en el estudio del problema. Ten en cuenta incluso posibles variaciones del problema y/o variaciones al alza del tamaño"
      ]
    },
    {
      "cell_type": "markdown",
      "metadata": {
        "id": "IE0uZmo-tZu-"
      },
      "source": [
        "Respuesta"
      ]
    }
  ]
}