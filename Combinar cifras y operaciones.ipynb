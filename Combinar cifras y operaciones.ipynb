{
  "nbformat": 4,
  "nbformat_minor": 0,
  "metadata": {
    "colab": {
      "provenance": [],
      "include_colab_link": true
    },
    "kernelspec": {
      "name": "python3",
      "display_name": "Python 3"
    }
  },
  "cells": [
    {
      "cell_type": "markdown",
      "metadata": {
        "id": "view-in-github",
        "colab_type": "text"
      },
      "source": [
        "<a href=\"https://colab.research.google.com/github/DavidAlba/03MAIR---Algoritmos-de-Optimizacion/blob/main/Combinar%20cifras%20y%20operaciones.ipynb\" target=\"_parent\"><img src=\"https://colab.research.google.com/assets/colab-badge.svg\" alt=\"Open In Colab\"/></a>"
      ]
    },
    {
      "cell_type": "markdown",
      "metadata": {
        "id": "hVbXYX-RfPWh"
      },
      "source": [
        "# Combinar cifras y operaciones<br>\n",
        "Nombre y Apellidos: Juan David Gutierrez Alba  <br>\n",
        "Url: https://github.com/.../03MAIR---Algoritmos-de-Optimizacion---2019/tree/master/SEMINARIO<br>\n",
        "Problema:\n",
        "> 1. Sesiones de doblaje <br>\n",
        ">2. Organizar los horarios de partidos de La Liga<br>\n",
        ">3. Combinar cifras y operaciones\n",
        "\n",
        "Descripción del problema:\n",
        "\n",
        "Dados n dígitos (tomados de {1,…,9}, sin repetir) y los operadores +,−,×,/, construir todas las expresiones binarias totalmente parentizadas usando cada dígito exactamente una vez, permitiendo únicamente divisiones exactas (resultado entero).\n",
        "\n",
        "Objetivos: (i) calcular el mínimo y el máximo alcanzables; (ii) el conjunto de enteros alcanzables; (iii) comprobar si hay cobertura completa del intervalo\n",
        "[min,max].\n",
        "\n",
        "(*) La respuesta es obligatoria\n",
        "                                        "
      ]
    },
    {
      "cell_type": "code",
      "metadata": {
        "id": "AiskKkzZfy4e"
      },
      "source": [],
      "execution_count": null,
      "outputs": []
    },
    {
      "cell_type": "markdown",
      "metadata": {
        "id": "3_-exlrTgLd-"
      },
      "source": [
        "(*)¿Cuantas posibilidades hay sin tener en cuenta las restricciones?<br>\n",
        "\n",
        "\n",
        "\n",
        "¿Cuantas posibilidades hay teniendo en cuenta todas las restricciones.\n",
        "\n",
        "\n"
      ]
    },
    {
      "cell_type": "markdown",
      "metadata": {
        "id": "WfCUqJyKhPcw"
      },
      "source": [
        "Respuesta\n",
        "\n",
        "El objetivo es representar cada subproblema “¿qué valores puedo obtener usando exactamente estos dígitos?” y reutilizar resultados para no repetir trabajo.\n",
        "\n",
        "Elecciones:\n",
        "\n",
        "- Clave de subproblema (multiconjunto de dígitos): tuple(sorted(digits))\n",
        "\n",
        " Ejemplos:  digits = [3,1,2] -> key = (1,2,3)\n",
        "\n",
        "- Resultado de cada subproblema:  set(int) con todos los enteros alcanzables usando exactamente esos dígitos.\n",
        "\n",
        "Ejemplo (ilustrativo):  Values((2,3)) = { 5, -1, 6, 0 }  (corresponden a 2+3, 2-3, 2*3, 2/3 (no entero), 3-2, 3/2 (no entero))\n",
        "\n",
        "- Memoización (cache):  Diccionario implícito por clave (o decorador LRU) para guardar:  cache[(1,2,3)] = Values((1,2,3))\n",
        "\n",
        "- Operadores:  Conjunto fijo: {' + ', ' - ', ' * ', ' / '}.  Regla de división: solo si b != 0 y a % b == 0."
      ]
    },
    {
      "cell_type": "code",
      "metadata": {
        "id": "iq6Fe32MgpDX"
      },
      "source": [],
      "execution_count": null,
      "outputs": []
    },
    {
      "cell_type": "markdown",
      "metadata": {
        "id": "dzynfVJahHoY"
      },
      "source": [
        "Modelo para el espacio de soluciones<br>\n",
        "(*) ¿Cual es la estructura de datos que mejor se adapta al problema? Argumentalo.(Es posible que hayas elegido una al principio y veas la necesidad de cambiar, arguentalo)\n"
      ]
    },
    {
      "cell_type": "markdown",
      "metadata": {
        "id": "xFIJrOwKi2Ti"
      },
      "source": [
        "Respuesta\n",
        "\n",
        "**¿Cuántas posibilidades hay sin restricciones?**\n",
        "\n",
        "Si tenemos n dígitos distintos y usamos exactamente uno en cada hoja del árbol:\n",
        "\n",
        "- Nº de formas de parentizar (árboles binarios completos): C_{n-1}\n",
        "- Nº de permutaciones de los dígitos: n!\n",
        "- Nº de asignaciones de operadores (en cada nodo interno): 4^(n-1) (porque hay n-1 nodos internos y 4 operadores: + - * /)\n",
        "\n",
        "Total (cota superior exacta sin restricciones):  Total(n) = n! * C_{n-1} * 4^(n-1)\n",
        "\n",
        "Ejemplos prácticos:\n",
        "\n",
        "- Para n = 5: 5! * C_4 * 4^4 = 120 * 14 * 256 = 430080\n",
        "- Para n = 9: 9! * C_8 * 4^8 = 362880 * 1430 * 65536 = 34007836262400\n",
        "\n",
        "**¿Cuántas quedan con todas las restricciones?**\n",
        "\n",
        "Restricciones relevantes:\n",
        "1. División entera: sólo aceptamos a / b cuando b != 0 y a % b == 0.\n",
        "2. Simetrías: a + b y b + a son lo mismo (igual para *), así que muchas configuraciones se duplican si consideramos orden izquierda-derecha y permutaciones de dígitos.\n",
        "\n",
        "Consecuencia: no existe una fórmula cerrada simple que reste “exactamente” esos casos. Lo correcto es dar cotas y usar un algoritmo exacto que evite duplicados y filtre divisiones no enteras.\n",
        "\n",
        "Una forma estándar (y mucho más eficiente que el brute force) es resolver por subconjuntos (multiconjuntos) con memoización:\n",
        "\n",
        "- Nº de subproblemas distintos (subconjuntos no vacíos): <= 2^n - 1\n",
        "\n",
        "- En un subproblema de tamaño k, el nº de biparticiones no ordenadas (A ⊎ B) es como máximo: 2^(k-1) - 1\n",
        "\n",
        "(porque cada bipartición y su complemento son la misma, y excluimos A=∅ y A=S)\n",
        "\n",
        "Una cota superior operativa para el trabajo que hará el algoritmo por DP (sin contar el tamaño de los conjuntos de valores intermedios) es: Trabajo_DP(n) <=  sum_{k=2..n} [ C(n, k) * ( 2^(k-1) - 1 ) ]"
      ]
    },
    {
      "cell_type": "code",
      "source": [],
      "metadata": {
        "id": "J4en3zmXg3bL"
      },
      "execution_count": null,
      "outputs": []
    },
    {
      "cell_type": "markdown",
      "metadata": {
        "id": "7Z9U2W7bi-XS"
      },
      "source": [
        "Según el modelo para el espacio de soluciones<br>\n",
        "(*)¿Cual es la función objetivo?\n",
        "\n",
        "(*)¿Es un problema de maximización o minimización?"
      ]
    },
    {
      "cell_type": "markdown",
      "metadata": {
        "id": "hBalWLM7j1_d"
      },
      "source": [
        "Respuesta\n",
        "\n",
        "En este problema no buscamos un único valor, sino todo el conjunto de enteros alcanzables combinando los dígitos y operadores.\n",
        "\n",
        "- Función objetivo (para caracterizar el espacio):\n",
        "  - min = min(Values(S))\n",
        "  - max = max(Values(S))\n",
        "\n",
        "donde Values(S) es el conjunto de todos los resultados enteros posibles usando todos los dígitos de S exactamente una vez y operadores { + , - , * , / } (con división entera).\n",
        "\n",
        "El problema es a la vez maximización y minimización, porque se pide encontrar el valor más grande y el más pequeño alcanzable."
      ]
    },
    {
      "cell_type": "code",
      "metadata": {
        "id": "pDA-rg3Gj5Lz"
      },
      "source": [],
      "execution_count": null,
      "outputs": []
    },
    {
      "cell_type": "markdown",
      "metadata": {
        "id": "rlnTYgY1j6I2"
      },
      "source": [
        "Diseña un algoritmo para resolver el problema por fuerza bruta"
      ]
    },
    {
      "cell_type": "markdown",
      "metadata": {
        "id": "70rDgxYXkC8r"
      },
      "source": [
        "Respuesta\n",
        "\n",
        "La idea es generar y evaluar todas las expresiones posibles que usan cada dígito exactamente una vez.\n",
        "\n",
        "Pasos:\n",
        "\n",
        "1. Enumerar todas las permutaciones de los dígitos n!\n",
        "2. Enumerar todas las formas de parentizar (árboles binarios completos)\n",
        "C_{n-1}\n",
        "3. Enumerar todas las asignaciones de operadores (en los n-1 nodos)\n",
        "4^(n-1) (operadores {+,-,*,/})\n",
        "4. Evaluar cada expresión, aceptando división solo si b != 0 y a % b == 0."
      ]
    },
    {
      "cell_type": "code",
      "metadata": {
        "id": "CJb5sQ0qkENy"
      },
      "source": [],
      "execution_count": null,
      "outputs": []
    },
    {
      "cell_type": "markdown",
      "metadata": {
        "id": "tgrnsC2nkFa8"
      },
      "source": [
        "Calcula la complejidad del algoritmo por fuerza bruta"
      ]
    },
    {
      "cell_type": "markdown",
      "metadata": {
        "id": "9eUd3xwckP68"
      },
      "source": [
        "Respuesta\n",
        "\n",
        "\n",
        "\n",
        "Conteo total de expresiones (cota superior exacta sin restricciones): Total(n) = n! * C_{n-1} * 4^(n-1). Ejemplo: n = 5  ->  5! * C_4 * 4^4 = 120 * 14 * 256 = 430080\n",
        "\n",
        "Complejidad temporal: Evaluar una expresión totalmente parentizada cuesta ~O(n) operaciones aritméticas. (Lo esencial es el factor combinatorio n! * C_{n-1} * 4^(n-1), que crece de forma explosiva.)\n",
        "\n",
        "Complejidad espacial: S(n) = O(n) (pila de evaluación y almacenamiento temporal)\n",
        "\n",
        "Correctitud: recorre  todas las combinaciones posibles de dígitos, paréntesis y operadores; por ello encuentra todos los valores alcanzables.\n",
        "\n",
        "Límite práctico: Con n ≥ 6–7 el tiempo se vuelve prohibitivo. En la práctica, el brute force es viable para n ≤ 5. Para n = 9 es necesario un método mejor (p. ej., DP con memoización) que reduzca operaciones manteniendo la optimalidad."
      ]
    },
    {
      "cell_type": "code",
      "metadata": {
        "id": "rvZWwL-ckRST"
      },
      "source": [],
      "execution_count": null,
      "outputs": []
    },
    {
      "cell_type": "markdown",
      "metadata": {
        "id": "txbrmLmskReM"
      },
      "source": [
        "(*)Diseña un algoritmo que mejore la complejidad del algortimo por fuerza bruta. Argumenta porque crees que mejora el algoritmo por fuerza bruta"
      ]
    },
    {
      "cell_type": "markdown",
      "metadata": {
        "id": "hLrVwt5QkZPD"
      },
      "source": [
        "Respuesta\n",
        "\n",
        "Muchos casos del brute force repiten el mismo subproblema: “¿qué valores puedo obtener usando exactamente este multiconjunto de dígitos?”\n",
        "\n",
        "Si guardamos (memoizamos) la solución para cada multiconjunto, evitamos recomputar.\n",
        "\n",
        "Definiciones:\n",
        "\n",
        "- S = multiconjunto de dígitos (p.ej., (1,2,3,3))\n",
        "\n",
        "- Values(S) = conjunto de enteros alcanzables usando todos los dígitos de S exactamente una vez\n",
        "\n",
        "\n",
        "Recurrencia (divide y vencerás sobre biparticiones no ordenadas):\n",
        "\n",
        "Base:  si |S| = 1  ->  Values(S) = { único dígito }\n",
        "\n",
        "Paso:  para cada bipartición no ordenada S = A ⊎ B, con A≠∅ y B≠∅:\n",
        "  - Values(S) incluye:\n",
        "    - a + b, a - b, a * b, a / b (solo si b - ≠ 0 y a % b == 0)\n",
        "    - para todo a ∈ Values(A) y b ∈ Values(B)\n",
        "\n",
        "\n",
        "Clave de memoización:\n",
        "\n",
        "- key(S) = tuple(sorted(S))\n",
        "cache[key(S)] = Values(S)\n",
        "\n",
        "\n",
        "Por qué es correcto (mismo óptimo que brute force):"
      ]
    },
    {
      "cell_type": "code",
      "metadata": {
        "id": "m1eyM21Vkabg"
      },
      "source": [],
      "execution_count": null,
      "outputs": []
    },
    {
      "cell_type": "markdown",
      "metadata": {
        "id": "eGDB4K6uk1iN"
      },
      "source": [
        "(*)Calcula la complejidad del algoritmo"
      ]
    },
    {
      "cell_type": "markdown",
      "metadata": {
        "id": "NhpTh_BPk1ms"
      },
      "source": [
        "Respuesta\n",
        "\n",
        "Toda expresión binaria define una bipartición en la raíz (subexpresión izquierda A y derecha B).\n",
        "\n",
        "Recorriendo todas las biparticiones no ordenadas y aplicando la recurrencia, se generan todas las expresiones posibles (sin perder ninguna).\n",
        "\n",
        "La memoización solo evita repeticiones; no elimina casos válidos.\n",
        "\n",
        "Por tanto, el conjunto final Values(S) es idéntico al del brute force.\n",
        "\n",
        "Complejidad (mejor que brute force, pero aún exponencial):\n",
        "\n",
        "- Nº de subproblemas distintos (multiconjuntos no vacíos):\n",
        "<= 2^n - 1\n",
        "\n",
        "- En un subproblema de tamaño k, nº de biparticiones no ordenadas (cota):\n",
        "<= 2^(k-1) - 1\n",
        "\n",
        "En la práctica, es órdenes de magnitud menor que: n! * C_{n-1} * 4^(n-1) del brute force."
      ]
    },
    {
      "cell_type": "code",
      "metadata": {
        "id": "nREzhkStlCq8"
      },
      "source": [],
      "execution_count": null,
      "outputs": []
    },
    {
      "cell_type": "markdown",
      "metadata": {
        "id": "3M6QjTsSkmYe"
      },
      "source": [
        "Según el problema (y tenga sentido), diseña un juego de datos de entrada aleatorios"
      ]
    },
    {
      "cell_type": "markdown",
      "metadata": {
        "id": "Jc3_OlyNkvjZ"
      },
      "source": [
        "Respuesta"
      ]
    },
    {
      "cell_type": "markdown",
      "metadata": {
        "id": "zy5ZROmjlGo1"
      },
      "source": [
        "Aplica el algoritmo al juego de datos generado"
      ]
    },
    {
      "cell_type": "markdown",
      "metadata": {
        "id": "_Cmj-PVylMsa"
      },
      "source": [
        "Respuesta"
      ]
    },
    {
      "cell_type": "code",
      "metadata": {
        "id": "Jkx8GeiYlUz1"
      },
      "source": [],
      "execution_count": null,
      "outputs": []
    },
    {
      "cell_type": "markdown",
      "metadata": {
        "id": "eTFWUJQrtGcv"
      },
      "source": [
        "Enumera las referencias que has utilizado(si ha sido necesario) para llevar a cabo el trabajo"
      ]
    },
    {
      "cell_type": "markdown",
      "metadata": {
        "id": "YKQ_mRBttWsP"
      },
      "source": [
        "Respuesta"
      ]
    },
    {
      "cell_type": "markdown",
      "metadata": {
        "id": "kAkDPUyRtYyH"
      },
      "source": [
        "Describe brevemente las lineas de como crees que es posible avanzar en el estudio del problema. Ten en cuenta incluso posibles variaciones del problema y/o variaciones al alza del tamaño"
      ]
    },
    {
      "cell_type": "markdown",
      "metadata": {
        "id": "IE0uZmo-tZu-"
      },
      "source": [
        "Respuesta"
      ]
    }
  ]
}